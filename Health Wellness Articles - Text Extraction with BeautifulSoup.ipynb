{
 "cells": [
  {
   "cell_type": "code",
   "execution_count": 2,
   "metadata": {},
   "outputs": [],
   "source": [
    "#import packages\n",
    "\n",
    "import re\n",
    "import urllib\n",
    "from urllib2 import Request\n",
    "import requests\n",
    "from bs4 import BeautifulSoup\n",
    "from bs4.element import Comment"
   ]
  },
  {
   "cell_type": "code",
   "execution_count": 3,
   "metadata": {},
   "outputs": [],
   "source": [
    "#functions to filter for and extract main text from html:\n",
    "\n",
    "def tag_visible(element):\n",
    "    if element.parent.name in ['style', 'script', 'head', 'title', 'meta', '[document]']:\n",
    "        return False\n",
    "    elif isinstance(element, Comment):\n",
    "        return False\n",
    "    elif re.match('<!--.*-->', str(element.encode('utf-8'))):\n",
    "        return False\n",
    "    return True\n",
    "\n",
    "\n",
    "def text_from_html(body):\n",
    "    soup = BeautifulSoup(body, 'html.parser')\n",
    "    texts = soup.findAll(text=True)\n",
    "    visible_texts = filter(tag_visible, texts)  \n",
    "    return u\" \".join(t.strip() for t in visible_texts)\n"
   ]
  },
  {
   "cell_type": "markdown",
   "metadata": {},
   "source": [
    "### Generate Corpus"
   ]
  },
  {
   "cell_type": "code",
   "execution_count": 4,
   "metadata": {},
   "outputs": [],
   "source": [
    "#read in text file with URLs to scrape from\n",
    "\n",
    "with open('links_exercise_benefits.txt', 'r') as f:\n",
    "    links = f.readlines()\n",
    "links = [x.strip() for x in links] "
   ]
  },
  {
   "cell_type": "code",
   "execution_count": 5,
   "metadata": {},
   "outputs": [
    {
     "data": {
      "text/plain": [
       "u\"   Sections SEARCH Skip to content Skip to site index Well Subscribe Log In Subscribe Log In Advertisement Supported by Phys Ed Exercise vs. Standing? You Probably Need to Do Both Moderate exercise does different things to the body than incidental activities like standing up. Image Eric L. Adams, the Brooklyn borough president, uses a standing desk as part of his fitness routine. Credit Katherine Taylor for The New York Times By  Gretchen Reynolds June 13, 2018 Exercise alone is probably not enough for us to achieve and maintain good health. We must also try to sit less, according to a fascinating new study of the separate physiological effects that exercise and light, almost-incidental activities, such as standing up, can have on our bodies. By now, we all know that regular exercise is good for us. The United States  national exercise guidelines, which are based on a wealth of scientific evidence, recommend at least 150 minutes of moderate exercise each week in order to lengthen our life spans and reduce our risks of a variety of diseases. In practice, this recommendation translates into 30 minutes almost daily of exercise that should be brisk enough to raise our heart rates and make us gasp a bit for breath. But exercising 30 minutes a day leaves us plenty of time for other activities, the primary one of which (apart from sleeping) tends to be sitting. A typical office worker can easily log more than 10 or 11 hours a day in a chair, according to studies of how we spend our time. These long stretches of sitting have been associated with a variety of health concerns, including increased risks for diabetes, obesity and poor cholesterol profiles. But whether a single session of exercise most days can reduce or cancel out those risks or whether we also need to find ways to sit less has remained scientifically uncertain. So for the new study, which was published this month in Scientific Reports , researchers at Maastricht University in the Netherlands decided to ask several groups of men and women to upend their lives temporarily for science. Some of the 61 adults whom the scientists recruited were normal weight and generally healthy; others were overweight; and still others both overweight and diabetic. None exercised regularly. The scientists invited these men and women to the university performance lab and tested them for various markers of cardiac and metabolic health, including insulin resistance and cholesterol levels. Then the researchers had each volunteer complete three distinct, four-day sessions of living calculatedly exaggerated lifestyles. During one, the men and women sat for 14 hours a day, their chair time interrupted only by bathroom breaks.  During another of the four-day sessions, they substituted one hour of their sitting time with exercise, pedaling a stationary bicycle at a moderate pace for an hour. The other 13 hours, they were back in a chair. Finally, for the third of the sessions, they sat for about eight hours a day but spent the other five or six hours of their waking time standing or strolling about at a casual, meandering pace. The calories that they burned during these activities, whether cycling or standing and light walking, were about the same. After each four-day block, the scientists repeated the health tests from the start and then compared them. The results diverged in illuminating ways after each session. After four days of sitting nonstop, the men and women showed greater insulin resistance and undesirable changes in their cholesterol levels. They also had blood markers showing detrimental changes to their endothelial cells, which line our blood vessels, including our arteries; when those cells are unhealthy, the risk of cardiac disease rises. In effect, four days of uninterrupted sitting seemed to be undermining the volunteers\\u2019 metabolic and heart health, including among those who had no symptoms of metabolic problems at the start. But after four days that included moderate bicycling, the volunteers displayed enhanced endothelial cell health, compared to when they had sat nonstop. Their insulin sensitivity and cholesterol profiles were unchanged, though. On the other hand, insulin and cholesterol levels both were better after four days of standing or strolling for at least five hours a day, the scientists found. But the volunteers\\u2019 endothelial-cell health had not budged. The light activity seemed not to have affected that marker of heart health. Over all, the results suggest that exercise and standing up have distinct effects on the body, says Bernard Duvivier, a postdoctoral researcher at Maastricht University, who led the new study. Moderate exercise seems to hone endothelial and cardiac health, he says, probably in large part by increasing the flow of blood through blood vessels. Standing up, on the other hand, may have a more pronounced and positive impact on metabolism, he says, perhaps by increasing the number of muscular contractions that occur throughout the day. Busy muscles burn blood sugar for fuel, which helps to keep insulin levels steady, and release chemicals that can reduce bad cholesterol.  Of course, this study was small and quite short-term, with each session lasting only four days. Over a longer period of time, the biological impacts of both moderate exercise and less sitting would likely become broader and more encompassing. But even so, the findings are compelling, Dr. Duvivier says, especially for those of us who often are deskbound. \\u201cPeople should understand,\\u201d he says, \\u201cthat only moderate exercise is not enough and it\\u2019s also necessary to reduce prolonged sitting.\\u201d A version of this article appears in print on , on Page D 6 of the New York edition with the headline: Exercise vs. Standing? Try Both . Order Reprints | Today\\u2019s Paper | Subscribe Advertisement Site Index Go to Home Page \\xbb news home page world U.S. politics politics New York business tech science sports obituaries today's paper corrections corrections opinion today's opinion today's opinion op-ed columnists editorials editorials contributing writers op-ed Contributors letters letters sunday review sunday review taking note video: opinion arts today's arts art & design books dance movies music television theater video: arts living automobiles automobiles crossword food food education fashion & style health jobs magazine real estate t magazine travel weddings listings & more Reader Center tools & services N.Y.C. events guide multimedia photography photography video NYT store times journeys manage my account news home page world U.S. politics politics New York business tech science sports obituaries today's paper corrections corrections opinion today's opinion today's opinion op-ed columnists editorials editorials contributing writers op-ed Contributors letters letters sunday review sunday review taking note video: opinion arts today's arts art & design books dance movies music television theater video: arts living automobiles automobiles crossword food food education fashion & style health jobs magazine real estate t magazine travel weddings more Reader Center tools & services N.Y.C. events guide multimedia photography photography video NYT store times journeys manage my account Subscribe home delivery digital subscriptions Crossword email newsletters corporate subscriptions education rate mobile applications replica edition Site Information Navigation \\xa9 2018  The New York Times Company Contact Us Work with us Advertise Your Ad Choices Privacy Terms of Service Terms of Sale Site Map Help Help Subscriptions Collapse SEE MY OPTIONS              \""
      ]
     },
     "execution_count": 5,
     "metadata": {},
     "output_type": "execute_result"
    }
   ],
   "source": [
    "#create empty list to store all texts:\n",
    "res = []\n",
    "for l in links:\n",
    "    url = urllib.urlopen(l)\n",
    "    text = text_from_html(url)\n",
    "    res.append(text)\n",
    "res[1]  #print a sample article"
   ]
  },
  {
   "cell_type": "code",
   "execution_count": 19,
   "metadata": {},
   "outputs": [],
   "source": [
    "#join all texts together to create corpus\n",
    "\n",
    "corpus = ' ************* '.join(res).encode('utf-8')"
   ]
  },
  {
   "cell_type": "code",
   "execution_count": 9,
   "metadata": {},
   "outputs": [],
   "source": [
    "#save corpus as text file\n",
    "\n",
    "textfile = open('exercise_benefits_corpus.txt', 'w')\n",
    "textfile.write(corpus)\n",
    "textfile.close()"
   ]
  }
 ],
 "metadata": {
  "kernelspec": {
   "display_name": "Python 2",
   "language": "python",
   "name": "python2"
  },
  "language_info": {
   "codemirror_mode": {
    "name": "ipython",
    "version": 2
   },
   "file_extension": ".py",
   "mimetype": "text/x-python",
   "name": "python",
   "nbconvert_exporter": "python",
   "pygments_lexer": "ipython2",
   "version": "2.7.15"
  }
 },
 "nbformat": 4,
 "nbformat_minor": 2
}
